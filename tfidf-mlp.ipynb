{
  "cells": [
    {
      "cell_type": "code",
      "execution_count": 2,
      "metadata": {
        "id": "jyTEIRVmONMc"
      },
      "outputs": [],
      "source": [
        "import pandas as pd\n",
        "import numpy as np\n",
        "import matplotlib.pyplot as plt\n",
        "from sklearn.feature_extraction.text import TfidfVectorizer\n",
        "from sklearn.preprocessing import LabelEncoder\n",
        "from sklearn.model_selection import train_test_split\n",
        "from keras.layers import Dense, Dropout\n",
        "from keras.models import Sequential\n",
        "from keras.callbacks import ModelCheckpoint, EarlyStopping\n",
        "from keras.utils import to_categorical\n",
        "from keras.models import load_model\n",
        "import re\n",
        "import os"
      ]
    },
    {
      "cell_type": "code",
      "execution_count": 3,
      "metadata": {
        "id": "wGkYoYheOVnv"
      },
      "outputs": [],
      "source": [
        "# Load your airline satisfaction dataset\n",
        "airline_df = pd.read_excel(r'D:\\Code\\py_code\\Multi-Layer-Perceptron\\data\\BA_AirlineReviews_CL_excel.xlsx',header=0)"
      ]
    },
    {
      "cell_type": "code",
      "execution_count": 4,
      "metadata": {
        "id": "YQE7FlgsOWaX"
      },
      "outputs": [],
      "source": [
        "# Assuming 'OverallRating' is your target variable\n",
        "df = airline_df.copy()"
      ]
    },
    {
      "cell_type": "code",
      "execution_count": 5,
      "metadata": {
        "id": "uwOsndjWOXWs"
      },
      "outputs": [],
      "source": [
        "# Preprocess the text data in 'ReviewBody'\n",
        "df['ReviewBody'] = df['ReviewBody'].apply(lambda x: str(x).lower())\n",
        "df['ReviewBody'] = df['ReviewBody'].apply(lambda x: re.sub(r'[^\\w\\d ,]', '', str(x)))"
      ]
    },
    {
      "cell_type": "code",
      "execution_count": 6,
      "metadata": {
        "id": "Oj3vLBRnOYDA"
      },
      "outputs": [],
      "source": [
        "# Assuming 'OverallRating' is your target variable\n",
        "# Use 'OverallRating' as the target variable and 'ReviewBody' as features\n",
        "X = df['ReviewBody']\n",
        "y = df['Satisfaction']"
      ]
    },
    {
      "cell_type": "code",
      "execution_count": 7,
      "metadata": {
        "id": "S4p2G0gxOYv4"
      },
      "outputs": [],
      "source": [
        "# TF-IDF vectorization\n",
        "tfidf = TfidfVectorizer(binary=True)\n",
        "X_tfidf = tfidf.fit_transform(X).todense()"
      ]
    },
    {
      "cell_type": "code",
      "execution_count": 8,
      "metadata": {
        "id": "xSo_KFs5OZZY"
      },
      "outputs": [],
      "source": [
        "# Encode the target variable\n",
        "lb = LabelEncoder()\n",
        "y_encoded = lb.fit_transform(y)\n",
        "y_categorical = to_categorical(y_encoded)"
      ]
    },
    {
      "cell_type": "code",
      "execution_count": 9,
      "metadata": {
        "id": "fWx2_fwAOaOK"
      },
      "outputs": [],
      "source": [
        "# Split the dataset\n",
        "seed = 29\n",
        "X_train, X_val, y_train, y_val = train_test_split(X_tfidf, y_categorical, test_size=0.2, random_state=seed)"
      ]
    },
    {
      "cell_type": "code",
      "execution_count": 10,
      "metadata": {
        "colab": {
          "base_uri": "https://localhost:8080/"
        },
        "id": "ThKxhEmwOa2-",
        "outputId": "9c7f1940-b08b-4af2-f2b1-845975cf0834"
      },
      "outputs": [
        {
          "name": "stdout",
          "output_type": "stream",
          "text": [
            "WARNING:tensorflow:From c:\\anaconda3\\envs\\pyenv\\Lib\\site-packages\\keras\\src\\backend.py:873: The name tf.get_default_graph is deprecated. Please use tf.compat.v1.get_default_graph instead.\n",
            "\n",
            "WARNING:tensorflow:From c:\\anaconda3\\envs\\pyenv\\Lib\\site-packages\\keras\\src\\optimizers\\__init__.py:309: The name tf.train.Optimizer is deprecated. Please use tf.compat.v1.train.Optimizer instead.\n",
            "\n",
            "Model: \"sequential\"\n",
            "_________________________________________________________________\n",
            " Layer (type)                Output Shape              Param #   \n",
            "=================================================================\n",
            " dense (Dense)               (None, 512)               7968768   \n",
            "                                                                 \n",
            " dropout (Dropout)           (None, 512)               0         \n",
            "                                                                 \n",
            " dense_1 (Dense)             (None, 10)                5130      \n",
            "                                                                 \n",
            "=================================================================\n",
            "Total params: 7973898 (30.42 MB)\n",
            "Trainable params: 7973898 (30.42 MB)\n",
            "Non-trainable params: 0 (0.00 Byte)\n",
            "_________________________________________________________________\n"
          ]
        }
      ],
      "source": [
        "# Build and compile the MLP model\n",
        "MLP = Sequential()\n",
        "MLP.add(Dense(512, input_shape=(X_tfidf.shape[1],), activation='relu'))\n",
        "MLP.add(Dropout(0.5))\n",
        "MLP.add(Dense(y_categorical.shape[1], activation='softmax'))\n",
        "MLP.compile(loss='categorical_crossentropy', optimizer='adam', metrics=['accuracy'])\n",
        "\n",
        "MLP.summary()"
      ]
    },
    {
      "cell_type": "code",
      "execution_count": 11,
      "metadata": {
        "colab": {
          "base_uri": "https://localhost:8080/",
          "height": 419
        },
        "id": "h8Wl6KngObrC",
        "outputId": "e36f6a00-5548-4397-a94d-57a08583a533"
      },
      "outputs": [
        {
          "name": "stdout",
          "output_type": "stream",
          "text": [
            "Epoch 1/50\n",
            "WARNING:tensorflow:From c:\\anaconda3\\envs\\pyenv\\Lib\\site-packages\\keras\\src\\utils\\tf_utils.py:492: The name tf.ragged.RaggedTensorValue is deprecated. Please use tf.compat.v1.ragged.RaggedTensorValue instead.\n",
            "\n",
            "WARNING:tensorflow:From c:\\anaconda3\\envs\\pyenv\\Lib\\site-packages\\keras\\src\\engine\\base_layer_utils.py:384: The name tf.executing_eagerly_outside_functions is deprecated. Please use tf.compat.v1.executing_eagerly_outside_functions instead.\n",
            "\n",
            "24/24 [==============================] - ETA: 0s - loss: 2.2108 - accuracy: 0.2331\n",
            "Epoch 1: val_accuracy improved from -inf to 0.24022, saving model to mlp_airline.keras\n",
            "24/24 [==============================] - 4s 131ms/step - loss: 2.2108 - accuracy: 0.2331 - val_loss: 2.1197 - val_accuracy: 0.2402\n",
            "Epoch 2/50\n",
            "24/24 [==============================] - ETA: 0s - loss: 1.9656 - accuracy: 0.2858\n",
            "Epoch 2: val_accuracy improved from 0.24022 to 0.28880, saving model to mlp_airline.keras\n",
            "24/24 [==============================] - 3s 130ms/step - loss: 1.9656 - accuracy: 0.2858 - val_loss: 1.9694 - val_accuracy: 0.2888\n",
            "Epoch 3/50\n",
            "24/24 [==============================] - ETA: 0s - loss: 1.6857 - accuracy: 0.4983\n",
            "Epoch 3: val_accuracy improved from 0.28880 to 0.34143, saving model to mlp_airline.keras\n",
            "24/24 [==============================] - 3s 128ms/step - loss: 1.6857 - accuracy: 0.4983 - val_loss: 1.8383 - val_accuracy: 0.3414\n",
            "Epoch 4/50\n",
            "24/24 [==============================] - ETA: 0s - loss: 1.3742 - accuracy: 0.6983\n",
            "Epoch 4: val_accuracy improved from 0.34143 to 0.34818, saving model to mlp_airline.keras\n",
            "24/24 [==============================] - 3s 125ms/step - loss: 1.3742 - accuracy: 0.6983 - val_loss: 1.7523 - val_accuracy: 0.3482\n",
            "Epoch 5/50\n",
            "24/24 [==============================] - ETA: 0s - loss: 1.0736 - accuracy: 0.8422\n",
            "Epoch 5: val_accuracy improved from 0.34818 to 0.34953, saving model to mlp_airline.keras\n",
            "24/24 [==============================] - 3s 123ms/step - loss: 1.0736 - accuracy: 0.8422 - val_loss: 1.7091 - val_accuracy: 0.3495\n",
            "Epoch 6/50\n",
            "24/24 [==============================] - ETA: 0s - loss: 0.7910 - accuracy: 0.9220\n",
            "Epoch 6: val_accuracy improved from 0.34953 to 0.35358, saving model to mlp_airline.keras\n",
            "24/24 [==============================] - 3s 134ms/step - loss: 0.7910 - accuracy: 0.9220 - val_loss: 1.6896 - val_accuracy: 0.3536\n",
            "Epoch 7/50\n",
            "24/24 [==============================] - ETA: 0s - loss: 0.5600 - accuracy: 0.9591\n",
            "Epoch 7: val_accuracy did not improve from 0.35358\n",
            "24/24 [==============================] - 2s 101ms/step - loss: 0.5600 - accuracy: 0.9591 - val_loss: 1.6975 - val_accuracy: 0.3414\n",
            "Epoch 8/50\n",
            "24/24 [==============================] - ETA: 0s - loss: 0.3920 - accuracy: 0.9794\n",
            "Epoch 8: val_accuracy did not improve from 0.35358\n",
            "24/24 [==============================] - 2s 100ms/step - loss: 0.3920 - accuracy: 0.9794 - val_loss: 1.7098 - val_accuracy: 0.3441\n",
            "Epoch 9/50\n",
            "24/24 [==============================] - ETA: 0s - loss: 0.2748 - accuracy: 0.9916\n",
            "Epoch 9: val_accuracy did not improve from 0.35358\n",
            "24/24 [==============================] - 3s 112ms/step - loss: 0.2748 - accuracy: 0.9916 - val_loss: 1.7321 - val_accuracy: 0.3333\n",
            "Epoch 10/50\n",
            "24/24 [==============================] - ETA: 0s - loss: 0.1976 - accuracy: 0.9970\n",
            "Epoch 10: val_accuracy did not improve from 0.35358\n",
            "24/24 [==============================] - 3s 111ms/step - loss: 0.1976 - accuracy: 0.9970 - val_loss: 1.7531 - val_accuracy: 0.3468\n",
            "Epoch 11/50\n",
            "24/24 [==============================] - ETA: 0s - loss: 0.1479 - accuracy: 0.9973\n",
            "Epoch 11: val_accuracy did not improve from 0.35358\n",
            "24/24 [==============================] - 3s 108ms/step - loss: 0.1479 - accuracy: 0.9973 - val_loss: 1.7798 - val_accuracy: 0.3441\n"
          ]
        }
      ],
      "source": [
        "# Model training\n",
        "file_path = \"mlp_airline.keras\"\n",
        "check_point = ModelCheckpoint(file_path, monitor=\"val_accuracy\", verbose=1, save_best_only=True, mode=\"max\")\n",
        "early_stop = EarlyStopping(monitor=\"val_accuracy\", mode=\"max\", patience=5)\n",
        "\n",
        "mlp_history = MLP.fit(X_train, y_train, batch_size=128, epochs=50,\n",
        "                      validation_data=(X_val, y_val), callbacks=[check_point, early_stop])"
      ]
    },
    {
      "cell_type": "code",
      "execution_count": 12,
      "metadata": {
        "id": "Re_0LVUTOcn_"
      },
      "outputs": [],
      "source": [
        "# Load the best model for predictions\n",
        "mlp_best = load_model(file_path)"
      ]
    },
    {
      "cell_type": "code",
      "execution_count": 13,
      "metadata": {
        "colab": {
          "base_uri": "https://localhost:8080/"
        },
        "id": "DLXwuyiWOh9O",
        "outputId": "33e26389-ce23-4083-e63d-e13e7d57f0e4"
      },
      "outputs": [
        {
          "name": "stdout",
          "output_type": "stream",
          "text": [
            "Validation Accuracy: 35.36%\n"
          ]
        }
      ],
      "source": [
        "# Evaluate model on validation set and print accuracy\n",
        "accuracy = mlp_best.evaluate(X_val, y_val, verbose=0)[1]\n",
        "print(f\"Validation Accuracy: {accuracy * 100:.2f}%\")"
      ]
    },
    {
      "cell_type": "code",
      "execution_count": 14,
      "metadata": {
        "colab": {
          "base_uri": "https://localhost:8080/",
          "height": 216
        },
        "id": "Dgr56vU1OdMI",
        "outputId": "4dd76a68-38e0-4ea9-dfda-081917bf8fba"
      },
      "outputs": [
        {
          "ename": "NameError",
          "evalue": "name 'X_test_tfidf' is not defined",
          "output_type": "error",
          "traceback": [
            "\u001b[1;31m---------------------------------------------------------------------------\u001b[0m",
            "\u001b[1;31mNameError\u001b[0m                                 Traceback (most recent call last)",
            "Cell \u001b[1;32mIn[14], line 3\u001b[0m\n\u001b[0;32m      1\u001b[0m \u001b[38;5;66;03m# Make predictions on test data\u001b[39;00m\n\u001b[0;32m      2\u001b[0m \u001b[38;5;66;03m# Assuming you have a test dataset 'X_test_tfidf'\u001b[39;00m\n\u001b[1;32m----> 3\u001b[0m mlp_pred \u001b[38;5;241m=\u001b[39m mlp_best\u001b[38;5;241m.\u001b[39mpredict(\u001b[43mX_test_tfidf\u001b[49m)\n",
            "\u001b[1;31mNameError\u001b[0m: name 'X_test_tfidf' is not defined"
          ]
        }
      ],
      "source": [
        "# Make predictions on test data\n",
        "# Assuming you have a test dataset 'X_test_tfidf'\n",
        "mlp_pred = mlp_best.predict(X_test_tfidf)"
      ]
    }
  ],
  "metadata": {
    "colab": {
      "provenance": []
    },
    "kernelspec": {
      "display_name": "Python 3",
      "name": "python3"
    },
    "language_info": {
      "codemirror_mode": {
        "name": "ipython",
        "version": 3
      },
      "file_extension": ".py",
      "mimetype": "text/x-python",
      "name": "python",
      "nbconvert_exporter": "python",
      "pygments_lexer": "ipython3",
      "version": "3.11.3"
    }
  },
  "nbformat": 4,
  "nbformat_minor": 0
}
